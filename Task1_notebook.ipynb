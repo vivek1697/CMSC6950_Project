{
 "cells": [
  {
   "cell_type": "code",
   "execution_count": 5,
   "id": "63fb1dd1",
   "metadata": {
    "scrolled": true
   },
   "outputs": [],
   "source": [
    "import pandas as pd \n",
    "import matplotlib.pyplot as plt\n",
    "from mpl_toolkits import mplot3d\n",
    "\n",
    "import numpy as np\n",
    "from ipywidgets import interact, interactive, fixed, interact_manual\n",
    "import ipywidgets as widgets\n",
    "import pickle\n",
    "from argopy import DataFetcher as ArgoDataFetcher\n",
    "\n",
    "argo_loader = ArgoDataFetcher()\n",
    "\n",
    "ds = argo_loader.float([6902746, 6902747, 6902757, 6902766]).to_xarray()\n",
    "df = ds.to_dataframe()\n",
    "\n",
    "\n",
    "df.dropna()\n",
    "df['YEAR'] = pd.DatetimeIndex(df['TIME']).year\n",
    "df['DATE'] = df['TIME'].dt.date\n",
    "df_temp = df.rename(columns={'PRES': 'PRESSURE', 'PSAL': 'SALINITY','TEMP':'TEMPERATURE'})\n",
    "\n",
    "df_temp.to_csv('task1_data_notebook.csv',index=False)\n"
   ]
  },
  {
   "cell_type": "code",
   "execution_count": 6,
   "id": "799da5de",
   "metadata": {},
   "outputs": [
    {
     "name": "stdout",
     "output_type": "stream",
     "text": [
      "<class 'pandas.core.frame.DataFrame'>\n",
      "RangeIndex: 150442 entries, 0 to 150441\n",
      "Data columns (total 18 columns):\n",
      " #   Column                 Non-Null Count   Dtype  \n",
      "---  ------                 --------------   -----  \n",
      " 0   CONFIG_MISSION_NUMBER  150442 non-null  int64  \n",
      " 1   CYCLE_NUMBER           150442 non-null  int64  \n",
      " 2   DATA_MODE              150442 non-null  object \n",
      " 3   DIRECTION              150442 non-null  object \n",
      " 4   PLATFORM_NUMBER        150442 non-null  int64  \n",
      " 5   POSITION_QC            150442 non-null  int64  \n",
      " 6   PRESSURE               150442 non-null  float64\n",
      " 7   PRES_QC                150442 non-null  int64  \n",
      " 8   SALINITY               150442 non-null  float64\n",
      " 9   PSAL_QC                150442 non-null  int64  \n",
      " 10  TEMPERATURE            150442 non-null  float64\n",
      " 11  TEMP_QC                150442 non-null  int64  \n",
      " 12  TIME_QC                150442 non-null  int64  \n",
      " 13  LATITUDE               150442 non-null  float64\n",
      " 14  LONGITUDE              150442 non-null  float64\n",
      " 15  TIME                   150442 non-null  object \n",
      " 16  YEAR                   150442 non-null  int64  \n",
      " 17  DATE                   150442 non-null  object \n",
      "dtypes: float64(5), int64(9), object(4)\n",
      "memory usage: 20.7+ MB\n"
     ]
    }
   ],
   "source": [
    "data = pd.read_csv('task1_data_notebook.csv')\n",
    "data.info()\n"
   ]
  },
  {
   "cell_type": "code",
   "execution_count": null,
   "id": "00d20e13",
   "metadata": {},
   "outputs": [],
   "source": []
  },
  {
   "cell_type": "code",
   "execution_count": 7,
   "id": "d151e46e",
   "metadata": {},
   "outputs": [],
   "source": [
    "plt.rcParams.update({'font.size': 16})\n",
    "# Make a dropdown to select the Year, or \"All\"\n",
    "year = widgets.Dropdown(\n",
    "    options=['All'] + list(data['YEAR'].unique()),\n",
    "    value='All',\n",
    "    description='Year:',\n",
    ")\n",
    "\n",
    "def plotit(year):\n",
    "    df2 = data.copy()\n",
    "    if year != 'All':\n",
    "            df2 = df2[df2.YEAR == year]\n",
    "            \n",
    "    if len(df2) > 0:\n",
    "        fig = plt.figure(figsize=(20,15))\n",
    "        ax = plt.axes(projection='3d')\n",
    "        zdata = df2['TEMPERATURE'] \n",
    "        xdata = df2['LATITUDE']\n",
    "        ydata = df2['LONGITUDE']\n",
    "        p = ax.scatter3D(xdata, ydata, zdata, c=zdata);\n",
    "        ax.set_xlabel(\"Latitude\")\n",
    "        ax.set_ylabel(\"Longitude\")\n",
    "        ax.set_zlabel(\"Temperature\")\n",
    "        plt.title(\"Scatter plot for position of ARGO flot data for {} year\".format(year) )\n",
    "        fig.colorbar(p, ax=ax)\n",
    "        plt.show();\n",
    "\n",
    "    else:\n",
    "        print(\"No data to show for current selection\")        \n",
    "\n"
   ]
  },
  {
   "cell_type": "code",
   "execution_count": 8,
   "id": "e9d4bd08",
   "metadata": {},
   "outputs": [
    {
     "data": {
      "application/vnd.jupyter.widget-view+json": {
       "model_id": "fa5f55b93d604d7b9b18e18981411069",
       "version_major": 2,
       "version_minor": 0
      },
      "text/plain": [
       "interactive(children=(Dropdown(description='Year:', options=('All', 2017, 2018, 2019, 2020, 2021), value='All'…"
      ]
     },
     "metadata": {},
     "output_type": "display_data"
    }
   ],
   "source": [
    "interactive(plotit, year=year)"
   ]
  },
  {
   "cell_type": "code",
   "execution_count": null,
   "id": "f6a53cf8",
   "metadata": {},
   "outputs": [],
   "source": [
    "\n"
   ]
  },
  {
   "cell_type": "code",
   "execution_count": null,
   "id": "f8c27d02",
   "metadata": {},
   "outputs": [],
   "source": [
    "\n",
    "\n"
   ]
  },
  {
   "cell_type": "code",
   "execution_count": null,
   "id": "04bf3d23",
   "metadata": {},
   "outputs": [],
   "source": []
  }
 ],
 "metadata": {
  "kernelspec": {
   "display_name": "Python 3",
   "language": "python",
   "name": "python3"
  },
  "language_info": {
   "codemirror_mode": {
    "name": "ipython",
    "version": 3
   },
   "file_extension": ".py",
   "mimetype": "text/x-python",
   "name": "python",
   "nbconvert_exporter": "python",
   "pygments_lexer": "ipython3",
   "version": "3.9.5"
  }
 },
 "nbformat": 4,
 "nbformat_minor": 5
}
