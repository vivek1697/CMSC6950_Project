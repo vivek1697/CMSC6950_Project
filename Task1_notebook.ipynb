{
 "cells": [
  {
   "cell_type": "code",
   "execution_count": 29,
   "id": "63fb1dd1",
   "metadata": {
    "scrolled": true
   },
   "outputs": [],
   "source": [
    "import pandas as pd \n",
    "import matplotlib.pyplot as plt\n",
    "\n",
    "import numpy as np\n",
    "from ipywidgets import interact, interactive, fixed, interact_manual\n",
    "import ipywidgets as widgets\n",
    "from argopy import DataFetcher as ArgoDataFetcher\n",
    "\n",
    "argo_loader = ArgoDataFetcher()\n",
    "\n",
    "ds = argo_loader.float([6902746, 6902747, 6902757, 6902766]).to_xarray()\n",
    "df = ds.to_dataframe()\n",
    "\n",
    "\n",
    "df.dropna()\n",
    "df['YEAR'] = pd.DatetimeIndex(df['TIME']).year\n",
    "df['DATE'] = df['TIME'].dt.date\n",
    "df_temp = df.rename(columns={'PRES': 'PRESSURE', 'PSAL': 'SALINITY','TEMP':'TEMPERATURE'})\n",
    "\n",
    "df_temp.to_csv('task1_data.csv',index=False)\n"
   ]
  },
  {
   "cell_type": "code",
   "execution_count": 37,
   "id": "799da5de",
   "metadata": {},
   "outputs": [
    {
     "name": "stdout",
     "output_type": "stream",
     "text": [
      "<class 'pandas.core.frame.DataFrame'>\n",
      "RangeIndex: 149427 entries, 0 to 149426\n",
      "Data columns (total 18 columns):\n",
      " #   Column                 Non-Null Count   Dtype  \n",
      "---  ------                 --------------   -----  \n",
      " 0   CONFIG_MISSION_NUMBER  149427 non-null  int64  \n",
      " 1   CYCLE_NUMBER           149427 non-null  int64  \n",
      " 2   DATA_MODE              149427 non-null  object \n",
      " 3   DIRECTION              149427 non-null  object \n",
      " 4   PLATFORM_NUMBER        149427 non-null  int64  \n",
      " 5   POSITION_QC            149427 non-null  int64  \n",
      " 6   PRESSURE               149427 non-null  float64\n",
      " 7   PRES_QC                149427 non-null  int64  \n",
      " 8   SALINITY               149427 non-null  float64\n",
      " 9   PSAL_QC                149427 non-null  int64  \n",
      " 10  TEMPERATURE            149427 non-null  float64\n",
      " 11  TEMP_QC                149427 non-null  int64  \n",
      " 12  TIME_QC                149427 non-null  int64  \n",
      " 13  LATITUDE               149427 non-null  float64\n",
      " 14  LONGITUDE              149427 non-null  float64\n",
      " 15  TIME                   149427 non-null  object \n",
      " 16  YEAR                   149427 non-null  int64  \n",
      " 17  DATE                   149427 non-null  object \n",
      "dtypes: float64(5), int64(9), object(4)\n",
      "memory usage: 20.5+ MB\n"
     ]
    }
   ],
   "source": [
    "data = pd.read_csv('task1_data.csv')\n",
    "data.info()\n"
   ]
  },
  {
   "cell_type": "code",
   "execution_count": null,
   "id": "00d20e13",
   "metadata": {},
   "outputs": [],
   "source": []
  },
  {
   "cell_type": "code",
   "execution_count": 38,
   "id": "d151e46e",
   "metadata": {},
   "outputs": [],
   "source": [
    "# Make a dropdown to select the Year, or \"All\"\n",
    "year = widgets.Dropdown(\n",
    "    options=['All'] + list(data['YEAR'].unique()),\n",
    "    value='All',\n",
    "    description='Year:',\n",
    ")\n",
    "\n",
    "def plotit(year):\n",
    "    df2 = data.copy()\n",
    "    if year != 'All':\n",
    "            df2 = df2[df2.YEAR == year]\n",
    "            \n",
    "    if len(df2) > 0:\n",
    "        plt.scatter(df2['LATITUDE'], df2['LONGITUDE'], c=df2['TEMPERATURE'])\n",
    "        plt.grid()\n",
    "        plt.colorbar()\n",
    "        plt.xlabel(\"Latitude\")\n",
    "        plt.ylabel(\"Longitude\")\n",
    "        plt.title(\"Scatter plot for position of ARGO flot data for {}\".format(year))\n",
    "        plt.show();\n",
    "    else:\n",
    "        print(\"No data to show for current selection\")        \n",
    "\n"
   ]
  },
  {
   "cell_type": "code",
   "execution_count": 39,
   "id": "e9d4bd08",
   "metadata": {},
   "outputs": [
    {
     "data": {
      "application/vnd.jupyter.widget-view+json": {
       "model_id": "1157dfd760af4d95baff89b368f21b5f",
       "version_major": 2,
       "version_minor": 0
      },
      "text/plain": [
       "interactive(children=(Dropdown(description='Year:', options=('All', 2017, 2018, 2019, 2020, 2021), value='All'…"
      ]
     },
     "metadata": {},
     "output_type": "display_data"
    }
   ],
   "source": [
    "interactive(plotit, year=year)"
   ]
  },
  {
   "cell_type": "code",
   "execution_count": null,
   "id": "f6a53cf8",
   "metadata": {},
   "outputs": [],
   "source": []
  },
  {
   "cell_type": "code",
   "execution_count": null,
   "id": "f8c27d02",
   "metadata": {},
   "outputs": [],
   "source": []
  }
 ],
 "metadata": {
  "kernelspec": {
   "display_name": "Python 3",
   "language": "python",
   "name": "python3"
  },
  "language_info": {
   "codemirror_mode": {
    "name": "ipython",
    "version": 3
   },
   "file_extension": ".py",
   "mimetype": "text/x-python",
   "name": "python",
   "nbconvert_exporter": "python",
   "pygments_lexer": "ipython3",
   "version": "3.9.5"
  }
 },
 "nbformat": 4,
 "nbformat_minor": 5
}
